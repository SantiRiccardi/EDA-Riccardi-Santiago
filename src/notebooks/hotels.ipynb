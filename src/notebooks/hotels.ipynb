{
 "cells": [
  {
   "cell_type": "code",
   "execution_count": 1,
   "metadata": {},
   "outputs": [],
   "source": [
    "# 1°) Importamos las librerias a utilizar\n",
    "## PYTHON ##\n",
    "import pandas as pd\n",
    "import numpy as np\n",
    "import datetime\n",
    "\n",
    "# Para que me muestre los datos completos y no salgan cortados\n",
    "# le indico que ancho de las columnas\n",
    "pd.options.display.max_colwidth = None  #con None es para todos los caracteres posibles\n",
    "\n",
    "## VISUALIZACIONES ##\n",
    "import matplotlib.pyplot as plt\n",
    "import seaborn as sns"
   ]
  },
  {
   "cell_type": "markdown",
   "metadata": {},
   "source": [
    "# 2° Dataset: HOTELS"
   ]
  },
  {
   "cell_type": "code",
   "execution_count": 2,
   "metadata": {},
   "outputs": [
    {
     "data": {
      "text/html": [
       "<div>\n",
       "<style scoped>\n",
       "    .dataframe tbody tr th:only-of-type {\n",
       "        vertical-align: middle;\n",
       "    }\n",
       "\n",
       "    .dataframe tbody tr th {\n",
       "        vertical-align: top;\n",
       "    }\n",
       "\n",
       "    .dataframe thead th {\n",
       "        text-align: right;\n",
       "    }\n",
       "</style>\n",
       "<table border=\"1\" class=\"dataframe\">\n",
       "  <thead>\n",
       "    <tr style=\"text-align: right;\">\n",
       "      <th></th>\n",
       "      <th>travelCode</th>\n",
       "      <th>userCode</th>\n",
       "      <th>name</th>\n",
       "      <th>place</th>\n",
       "      <th>days</th>\n",
       "      <th>price</th>\n",
       "      <th>total</th>\n",
       "      <th>date</th>\n",
       "    </tr>\n",
       "  </thead>\n",
       "  <tbody>\n",
       "    <tr>\n",
       "      <th>0</th>\n",
       "      <td>0</td>\n",
       "      <td>0</td>\n",
       "      <td>Hotel A</td>\n",
       "      <td>Florianopolis (SC)</td>\n",
       "      <td>4</td>\n",
       "      <td>313.02</td>\n",
       "      <td>1252.08</td>\n",
       "      <td>09/26/2019</td>\n",
       "    </tr>\n",
       "    <tr>\n",
       "      <th>1</th>\n",
       "      <td>2</td>\n",
       "      <td>0</td>\n",
       "      <td>Hotel K</td>\n",
       "      <td>Salvador (BH)</td>\n",
       "      <td>2</td>\n",
       "      <td>263.41</td>\n",
       "      <td>526.82</td>\n",
       "      <td>10/10/2019</td>\n",
       "    </tr>\n",
       "    <tr>\n",
       "      <th>2</th>\n",
       "      <td>7</td>\n",
       "      <td>0</td>\n",
       "      <td>Hotel K</td>\n",
       "      <td>Salvador (BH)</td>\n",
       "      <td>3</td>\n",
       "      <td>263.41</td>\n",
       "      <td>790.23</td>\n",
       "      <td>11/14/2019</td>\n",
       "    </tr>\n",
       "    <tr>\n",
       "      <th>3</th>\n",
       "      <td>11</td>\n",
       "      <td>0</td>\n",
       "      <td>Hotel K</td>\n",
       "      <td>Salvador (BH)</td>\n",
       "      <td>4</td>\n",
       "      <td>263.41</td>\n",
       "      <td>1053.64</td>\n",
       "      <td>12/12/2019</td>\n",
       "    </tr>\n",
       "    <tr>\n",
       "      <th>4</th>\n",
       "      <td>13</td>\n",
       "      <td>0</td>\n",
       "      <td>Hotel A</td>\n",
       "      <td>Florianopolis (SC)</td>\n",
       "      <td>1</td>\n",
       "      <td>313.02</td>\n",
       "      <td>313.02</td>\n",
       "      <td>12/26/2019</td>\n",
       "    </tr>\n",
       "  </tbody>\n",
       "</table>\n",
       "</div>"
      ],
      "text/plain": [
       "   travelCode  userCode     name               place  days   price    total  \\\n",
       "0           0         0  Hotel A  Florianopolis (SC)     4  313.02  1252.08   \n",
       "1           2         0  Hotel K       Salvador (BH)     2  263.41   526.82   \n",
       "2           7         0  Hotel K       Salvador (BH)     3  263.41   790.23   \n",
       "3          11         0  Hotel K       Salvador (BH)     4  263.41  1053.64   \n",
       "4          13         0  Hotel A  Florianopolis (SC)     1  313.02   313.02   \n",
       "\n",
       "         date  \n",
       "0  09/26/2019  \n",
       "1  10/10/2019  \n",
       "2  11/14/2019  \n",
       "3  12/12/2019  \n",
       "4  12/26/2019  "
      ]
     },
     "execution_count": 2,
     "metadata": {},
     "output_type": "execute_result"
    }
   ],
   "source": [
    "# Lectura del fichero\n",
    "df_hotels = pd.read_csv(\"C:/Users/Santiago/Desktop/EDA/hotels.csv\")\n",
    "df_hotels.head()"
   ]
  },
  {
   "cell_type": "code",
   "execution_count": 3,
   "metadata": {},
   "outputs": [
    {
     "name": "stdout",
     "output_type": "stream",
     "text": [
      "Inicio: 2019-09-26 00:00:00\n",
      "Fin: 2023-07-13 00:00:00\n"
     ]
    }
   ],
   "source": [
    "# Analizamos desde que rango de fecha son los datos:\n",
    "print(f'Inicio: {pd.to_datetime(df_hotels[\"date\"]).min()}')\n",
    "print(f'Fin: {pd.to_datetime(df_hotels[\"date\"]).max()}')"
   ]
  },
  {
   "cell_type": "markdown",
   "metadata": {},
   "source": [
    "Observaciones: selecciono un rango de fechas para realizar el analisis. El mismo para flights"
   ]
  },
  {
   "cell_type": "code",
   "execution_count": 4,
   "metadata": {},
   "outputs": [
    {
     "name": "stdout",
     "output_type": "stream",
     "text": [
      "<class 'pandas.core.frame.DataFrame'>\n",
      "RangeIndex: 40552 entries, 0 to 40551\n",
      "Data columns (total 8 columns):\n",
      " #   Column      Non-Null Count  Dtype  \n",
      "---  ------      --------------  -----  \n",
      " 0   travelCode  40552 non-null  int64  \n",
      " 1   userCode    40552 non-null  int64  \n",
      " 2   name        40552 non-null  object \n",
      " 3   place       40552 non-null  object \n",
      " 4   days        40552 non-null  int64  \n",
      " 5   price       40552 non-null  float64\n",
      " 6   total       40552 non-null  float64\n",
      " 7   date        40552 non-null  object \n",
      "dtypes: float64(2), int64(3), object(3)\n",
      "memory usage: 2.5+ MB\n"
     ]
    }
   ],
   "source": [
    "df_hotels.info()"
   ]
  },
  {
   "cell_type": "code",
   "execution_count": 5,
   "metadata": {},
   "outputs": [
    {
     "data": {
      "text/html": [
       "<div>\n",
       "<style scoped>\n",
       "    .dataframe tbody tr th:only-of-type {\n",
       "        vertical-align: middle;\n",
       "    }\n",
       "\n",
       "    .dataframe tbody tr th {\n",
       "        vertical-align: top;\n",
       "    }\n",
       "\n",
       "    .dataframe thead th {\n",
       "        text-align: right;\n",
       "    }\n",
       "</style>\n",
       "<table border=\"1\" class=\"dataframe\">\n",
       "  <thead>\n",
       "    <tr style=\"text-align: right;\">\n",
       "      <th></th>\n",
       "      <th>travelCode</th>\n",
       "      <th>userCode</th>\n",
       "      <th>name</th>\n",
       "      <th>place</th>\n",
       "      <th>days</th>\n",
       "      <th>price</th>\n",
       "      <th>total</th>\n",
       "      <th>date</th>\n",
       "    </tr>\n",
       "  </thead>\n",
       "  <tbody>\n",
       "    <tr>\n",
       "      <th>count</th>\n",
       "      <td>40552.000000</td>\n",
       "      <td>40552.000000</td>\n",
       "      <td>40552</td>\n",
       "      <td>40552</td>\n",
       "      <td>40552.000000</td>\n",
       "      <td>40552.000000</td>\n",
       "      <td>40552.000000</td>\n",
       "      <td>40552</td>\n",
       "    </tr>\n",
       "    <tr>\n",
       "      <th>unique</th>\n",
       "      <td>NaN</td>\n",
       "      <td>NaN</td>\n",
       "      <td>9</td>\n",
       "      <td>9</td>\n",
       "      <td>NaN</td>\n",
       "      <td>NaN</td>\n",
       "      <td>NaN</td>\n",
       "      <td>199</td>\n",
       "    </tr>\n",
       "    <tr>\n",
       "      <th>top</th>\n",
       "      <td>NaN</td>\n",
       "      <td>NaN</td>\n",
       "      <td>Hotel K</td>\n",
       "      <td>Salvador (BH)</td>\n",
       "      <td>NaN</td>\n",
       "      <td>NaN</td>\n",
       "      <td>NaN</td>\n",
       "      <td>10/31/2019</td>\n",
       "    </tr>\n",
       "    <tr>\n",
       "      <th>freq</th>\n",
       "      <td>NaN</td>\n",
       "      <td>NaN</td>\n",
       "      <td>5094</td>\n",
       "      <td>5094</td>\n",
       "      <td>NaN</td>\n",
       "      <td>NaN</td>\n",
       "      <td>NaN</td>\n",
       "      <td>404</td>\n",
       "    </tr>\n",
       "    <tr>\n",
       "      <th>mean</th>\n",
       "      <td>67911.794461</td>\n",
       "      <td>666.963726</td>\n",
       "      <td>NaN</td>\n",
       "      <td>NaN</td>\n",
       "      <td>2.499679</td>\n",
       "      <td>214.439554</td>\n",
       "      <td>536.229513</td>\n",
       "      <td>NaN</td>\n",
       "    </tr>\n",
       "    <tr>\n",
       "      <th>std</th>\n",
       "      <td>39408.199333</td>\n",
       "      <td>391.136794</td>\n",
       "      <td>NaN</td>\n",
       "      <td>NaN</td>\n",
       "      <td>1.119326</td>\n",
       "      <td>76.742305</td>\n",
       "      <td>319.331482</td>\n",
       "      <td>NaN</td>\n",
       "    </tr>\n",
       "    <tr>\n",
       "      <th>min</th>\n",
       "      <td>0.000000</td>\n",
       "      <td>0.000000</td>\n",
       "      <td>NaN</td>\n",
       "      <td>NaN</td>\n",
       "      <td>1.000000</td>\n",
       "      <td>60.390000</td>\n",
       "      <td>60.390000</td>\n",
       "      <td>NaN</td>\n",
       "    </tr>\n",
       "    <tr>\n",
       "      <th>25%</th>\n",
       "      <td>33696.750000</td>\n",
       "      <td>323.000000</td>\n",
       "      <td>NaN</td>\n",
       "      <td>NaN</td>\n",
       "      <td>1.000000</td>\n",
       "      <td>165.990000</td>\n",
       "      <td>247.620000</td>\n",
       "      <td>NaN</td>\n",
       "    </tr>\n",
       "    <tr>\n",
       "      <th>50%</th>\n",
       "      <td>67831.000000</td>\n",
       "      <td>658.000000</td>\n",
       "      <td>NaN</td>\n",
       "      <td>NaN</td>\n",
       "      <td>2.000000</td>\n",
       "      <td>242.880000</td>\n",
       "      <td>495.240000</td>\n",
       "      <td>NaN</td>\n",
       "    </tr>\n",
       "    <tr>\n",
       "      <th>75%</th>\n",
       "      <td>102211.250000</td>\n",
       "      <td>1013.000000</td>\n",
       "      <td>NaN</td>\n",
       "      <td>NaN</td>\n",
       "      <td>4.000000</td>\n",
       "      <td>263.410000</td>\n",
       "      <td>742.860000</td>\n",
       "      <td>NaN</td>\n",
       "    </tr>\n",
       "    <tr>\n",
       "      <th>max</th>\n",
       "      <td>135942.000000</td>\n",
       "      <td>1339.000000</td>\n",
       "      <td>NaN</td>\n",
       "      <td>NaN</td>\n",
       "      <td>4.000000</td>\n",
       "      <td>313.020000</td>\n",
       "      <td>1252.080000</td>\n",
       "      <td>NaN</td>\n",
       "    </tr>\n",
       "  </tbody>\n",
       "</table>\n",
       "</div>"
      ],
      "text/plain": [
       "           travelCode      userCode     name          place          days  \\\n",
       "count    40552.000000  40552.000000    40552          40552  40552.000000   \n",
       "unique            NaN           NaN        9              9           NaN   \n",
       "top               NaN           NaN  Hotel K  Salvador (BH)           NaN   \n",
       "freq              NaN           NaN     5094           5094           NaN   \n",
       "mean     67911.794461    666.963726      NaN            NaN      2.499679   \n",
       "std      39408.199333    391.136794      NaN            NaN      1.119326   \n",
       "min          0.000000      0.000000      NaN            NaN      1.000000   \n",
       "25%      33696.750000    323.000000      NaN            NaN      1.000000   \n",
       "50%      67831.000000    658.000000      NaN            NaN      2.000000   \n",
       "75%     102211.250000   1013.000000      NaN            NaN      4.000000   \n",
       "max     135942.000000   1339.000000      NaN            NaN      4.000000   \n",
       "\n",
       "               price         total        date  \n",
       "count   40552.000000  40552.000000       40552  \n",
       "unique           NaN           NaN         199  \n",
       "top              NaN           NaN  10/31/2019  \n",
       "freq             NaN           NaN         404  \n",
       "mean      214.439554    536.229513         NaN  \n",
       "std        76.742305    319.331482         NaN  \n",
       "min        60.390000     60.390000         NaN  \n",
       "25%       165.990000    247.620000         NaN  \n",
       "50%       242.880000    495.240000         NaN  \n",
       "75%       263.410000    742.860000         NaN  \n",
       "max       313.020000   1252.080000         NaN  "
      ]
     },
     "execution_count": 5,
     "metadata": {},
     "output_type": "execute_result"
    }
   ],
   "source": [
    "df_hotels.describe(include='all')"
   ]
  },
  {
   "cell_type": "markdown",
   "metadata": {},
   "source": [
    "Descripción de las variables:\n",
    "* **travelCode** (v.numérica): userCode es unico para cada cliente\n",
    "* **userCode** (v.categórica): 5 tipos de companias de viaje\n",
    "* **name**: notamos que hay 9 tipos de hoteles\n",
    "* **place** (v.categórica): notamos que hay 9 tipos de ciudades\n",
    "* **days** (v.numérica): \n",
    "* **price**(v.numérica): precio/dia\n",
    "* **total**(v.numérica): precio total = precio*dias\n",
    "* **date**(v.numérica): "
   ]
  },
  {
   "cell_type": "code",
   "execution_count": 6,
   "metadata": {},
   "outputs": [
    {
     "data": {
      "text/plain": [
       "array(['Hotel A', 'Hotel K', 'Hotel BD', 'Hotel Z', 'Hotel AU',\n",
       "       'Hotel AF', 'Hotel BW', 'Hotel CB', 'Hotel BP'], dtype=object)"
      ]
     },
     "execution_count": 6,
     "metadata": {},
     "output_type": "execute_result"
    }
   ],
   "source": [
    "df_hotels['name'].unique()"
   ]
  },
  {
   "cell_type": "code",
   "execution_count": 7,
   "metadata": {},
   "outputs": [
    {
     "data": {
      "text/plain": [
       "array([4, 2, 3, 1], dtype=int64)"
      ]
     },
     "execution_count": 7,
     "metadata": {},
     "output_type": "execute_result"
    }
   ],
   "source": [
    "df_hotels['days'].unique()"
   ]
  },
  {
   "cell_type": "code",
   "execution_count": 8,
   "metadata": {},
   "outputs": [
    {
     "data": {
      "text/plain": [
       "1310"
      ]
     },
     "execution_count": 8,
     "metadata": {},
     "output_type": "execute_result"
    }
   ],
   "source": [
    "df_hotels['userCode'].unique().size"
   ]
  },
  {
   "cell_type": "code",
   "execution_count": 9,
   "metadata": {},
   "outputs": [
    {
     "name": "stderr",
     "output_type": "stream",
     "text": [
      "C:\\Users\\Santiago\\AppData\\Local\\Temp\\ipykernel_2328\\4167446034.py:2: FutureWarning: The default value of numeric_only in DataFrame.corr is deprecated. In a future version, it will default to False. Select only valid columns or specify the value of numeric_only to silence this warning.\n",
      "  sns.heatmap(df_hotels.corr(), annot=True)\n"
     ]
    },
    {
     "data": {
      "text/plain": [
       "<AxesSubplot: >"
      ]
     },
     "execution_count": 9,
     "metadata": {},
     "output_type": "execute_result"
    },
    {
     "data": {
      "image/png": "[encoded data removed]",
      "text/plain": [
       "<Figure size 640x480 with 2 Axes>"
      ]
     },
     "metadata": {},
     "output_type": "display_data"
    }
   ],
   "source": [
    "# Heatmap/Mapa de Correlación\n",
    "sns.heatmap(df_hotels.corr(), annot=True)"
   ]
  },
  {
   "cell_type": "markdown",
   "metadata": {},
   "source": [
    "Observaciones:"
   ]
  },
  {
   "cell_type": "markdown",
   "metadata": {},
   "source": [
    "### 3. Data Cleaning"
   ]
  },
  {
   "cell_type": "markdown",
   "metadata": {},
   "source": [
    "**Missings/Valores nulos**"
   ]
  },
  {
   "cell_type": "code",
   "execution_count": 10,
   "metadata": {},
   "outputs": [
    {
     "data": {
      "text/plain": [
       "travelCode    0\n",
       "userCode      0\n",
       "name          0\n",
       "place         0\n",
       "days          0\n",
       "price         0\n",
       "total         0\n",
       "date          0\n",
       "dtype: int64"
      ]
     },
     "execution_count": 10,
     "metadata": {},
     "output_type": "execute_result"
    }
   ],
   "source": [
    "df_hotels.isna().sum()"
   ]
  },
  {
   "cell_type": "code",
   "execution_count": 11,
   "metadata": {},
   "outputs": [
    {
     "data": {
      "text/plain": [
       "travelCode    0\n",
       "userCode      0\n",
       "name          0\n",
       "place         0\n",
       "days          0\n",
       "price         0\n",
       "total         0\n",
       "date          0\n",
       "dtype: int64"
      ]
     },
     "execution_count": 11,
     "metadata": {},
     "output_type": "execute_result"
    }
   ],
   "source": [
    "df_hotels.isnull().sum()"
   ]
  },
  {
   "cell_type": "code",
   "execution_count": 12,
   "metadata": {},
   "outputs": [
    {
     "data": {
      "text/plain": [
       "1    10171\n",
       "4    10163\n",
       "2    10110\n",
       "3    10108\n",
       "Name: days, dtype: int64"
      ]
     },
     "execution_count": 12,
     "metadata": {},
     "output_type": "execute_result"
    }
   ],
   "source": [
    "df_hotels.days.value_counts()"
   ]
  },
  {
   "cell_type": "code",
   "execution_count": 13,
   "metadata": {},
   "outputs": [
    {
     "data": {
      "text/plain": [
       "Salvador (BH)          5094\n",
       "Rio de Janeiro (RJ)    5029\n",
       "Natal (RN)             4829\n",
       "Sao Paulo (SP)         4828\n",
       "Recife (PE)            4467\n",
       "Brasilia (DF)          4437\n",
       "Campo Grande (MS)      4333\n",
       "Aracaju (SE)           4205\n",
       "Florianopolis (SC)     3330\n",
       "Name: place, dtype: int64"
      ]
     },
     "execution_count": 13,
     "metadata": {},
     "output_type": "execute_result"
    }
   ],
   "source": [
    "df_hotels.place.value_counts()"
   ]
  },
  {
   "cell_type": "code",
   "execution_count": 14,
   "metadata": {},
   "outputs": [
    {
     "data": {
      "text/plain": [
       "Hotel K     5094\n",
       "Hotel CB    5029\n",
       "Hotel BD    4829\n",
       "Hotel AF    4828\n",
       "Hotel AU    4467\n",
       "Hotel BP    4437\n",
       "Hotel BW    4333\n",
       "Hotel Z     4205\n",
       "Hotel A     3330\n",
       "Name: name, dtype: int64"
      ]
     },
     "execution_count": 14,
     "metadata": {},
     "output_type": "execute_result"
    }
   ],
   "source": [
    "df_hotels.name.value_counts()"
   ]
  },
  {
   "cell_type": "markdown",
   "metadata": {},
   "source": [
    "**Outliers**"
   ]
  },
  {
   "cell_type": "markdown",
   "metadata": {},
   "source": [
    "**Transformaciones**"
   ]
  },
  {
   "cell_type": "code",
   "execution_count": 15,
   "metadata": {},
   "outputs": [],
   "source": [
    "# Agregamos columna 'year-month-day' para leer y manipular la fecha:\n",
    "df_hotels[\"year-month-day\"] = pd.to_datetime(df_hotels[\"date\"])"
   ]
  },
  {
   "cell_type": "code",
   "execution_count": 16,
   "metadata": {},
   "outputs": [
    {
     "data": {
      "text/html": [
       "<div>\n",
       "<style scoped>\n",
       "    .dataframe tbody tr th:only-of-type {\n",
       "        vertical-align: middle;\n",
       "    }\n",
       "\n",
       "    .dataframe tbody tr th {\n",
       "        vertical-align: top;\n",
       "    }\n",
       "\n",
       "    .dataframe thead th {\n",
       "        text-align: right;\n",
       "    }\n",
       "</style>\n",
       "<table border=\"1\" class=\"dataframe\">\n",
       "  <thead>\n",
       "    <tr style=\"text-align: right;\">\n",
       "      <th></th>\n",
       "      <th>travelCode</th>\n",
       "      <th>userCode</th>\n",
       "      <th>name</th>\n",
       "      <th>place</th>\n",
       "      <th>days</th>\n",
       "      <th>price</th>\n",
       "      <th>total</th>\n",
       "      <th>date</th>\n",
       "      <th>year-month-day</th>\n",
       "    </tr>\n",
       "  </thead>\n",
       "  <tbody>\n",
       "    <tr>\n",
       "      <th>0</th>\n",
       "      <td>0</td>\n",
       "      <td>0</td>\n",
       "      <td>Hotel A</td>\n",
       "      <td>Florianopolis (SC)</td>\n",
       "      <td>4</td>\n",
       "      <td>313.02</td>\n",
       "      <td>1252.08</td>\n",
       "      <td>09/26/2019</td>\n",
       "      <td>2019-09-26</td>\n",
       "    </tr>\n",
       "    <tr>\n",
       "      <th>25851</th>\n",
       "      <td>86899</td>\n",
       "      <td>858</td>\n",
       "      <td>Hotel K</td>\n",
       "      <td>Salvador (BH)</td>\n",
       "      <td>4</td>\n",
       "      <td>263.41</td>\n",
       "      <td>1053.64</td>\n",
       "      <td>09/26/2019</td>\n",
       "      <td>2019-09-26</td>\n",
       "    </tr>\n",
       "    <tr>\n",
       "      <th>1385</th>\n",
       "      <td>4701</td>\n",
       "      <td>47</td>\n",
       "      <td>Hotel BW</td>\n",
       "      <td>Campo Grande (MS)</td>\n",
       "      <td>2</td>\n",
       "      <td>60.39</td>\n",
       "      <td>120.78</td>\n",
       "      <td>09/26/2019</td>\n",
       "      <td>2019-09-26</td>\n",
       "    </tr>\n",
       "    <tr>\n",
       "      <th>24681</th>\n",
       "      <td>82984</td>\n",
       "      <td>810</td>\n",
       "      <td>Hotel A</td>\n",
       "      <td>Florianopolis (SC)</td>\n",
       "      <td>3</td>\n",
       "      <td>313.02</td>\n",
       "      <td>939.06</td>\n",
       "      <td>09/26/2019</td>\n",
       "      <td>2019-09-26</td>\n",
       "    </tr>\n",
       "    <tr>\n",
       "      <th>34241</th>\n",
       "      <td>114921</td>\n",
       "      <td>1143</td>\n",
       "      <td>Hotel K</td>\n",
       "      <td>Salvador (BH)</td>\n",
       "      <td>4</td>\n",
       "      <td>263.41</td>\n",
       "      <td>1053.64</td>\n",
       "      <td>09/26/2019</td>\n",
       "      <td>2019-09-26</td>\n",
       "    </tr>\n",
       "    <tr>\n",
       "      <th>...</th>\n",
       "      <td>...</td>\n",
       "      <td>...</td>\n",
       "      <td>...</td>\n",
       "      <td>...</td>\n",
       "      <td>...</td>\n",
       "      <td>...</td>\n",
       "      <td>...</td>\n",
       "      <td>...</td>\n",
       "      <td>...</td>\n",
       "    </tr>\n",
       "    <tr>\n",
       "      <th>5284</th>\n",
       "      <td>17415</td>\n",
       "      <td>174</td>\n",
       "      <td>Hotel A</td>\n",
       "      <td>Florianopolis (SC)</td>\n",
       "      <td>1</td>\n",
       "      <td>313.02</td>\n",
       "      <td>313.02</td>\n",
       "      <td>09/23/2021</td>\n",
       "      <td>2021-09-23</td>\n",
       "    </tr>\n",
       "    <tr>\n",
       "      <th>24664</th>\n",
       "      <td>82931</td>\n",
       "      <td>809</td>\n",
       "      <td>Hotel AF</td>\n",
       "      <td>Sao Paulo (SP)</td>\n",
       "      <td>2</td>\n",
       "      <td>139.10</td>\n",
       "      <td>278.20</td>\n",
       "      <td>09/23/2021</td>\n",
       "      <td>2021-09-23</td>\n",
       "    </tr>\n",
       "    <tr>\n",
       "      <th>34979</th>\n",
       "      <td>117304</td>\n",
       "      <td>1162</td>\n",
       "      <td>Hotel BP</td>\n",
       "      <td>Brasilia (DF)</td>\n",
       "      <td>4</td>\n",
       "      <td>247.62</td>\n",
       "      <td>990.48</td>\n",
       "      <td>09/23/2021</td>\n",
       "      <td>2021-09-23</td>\n",
       "    </tr>\n",
       "    <tr>\n",
       "      <th>16791</th>\n",
       "      <td>55846</td>\n",
       "      <td>544</td>\n",
       "      <td>Hotel BD</td>\n",
       "      <td>Natal (RN)</td>\n",
       "      <td>1</td>\n",
       "      <td>242.88</td>\n",
       "      <td>242.88</td>\n",
       "      <td>09/23/2021</td>\n",
       "      <td>2021-09-23</td>\n",
       "    </tr>\n",
       "    <tr>\n",
       "      <th>10428</th>\n",
       "      <td>34642</td>\n",
       "      <td>330</td>\n",
       "      <td>Hotel Z</td>\n",
       "      <td>Aracaju (SE)</td>\n",
       "      <td>3</td>\n",
       "      <td>208.04</td>\n",
       "      <td>624.12</td>\n",
       "      <td>09/23/2021</td>\n",
       "      <td>2021-09-23</td>\n",
       "    </tr>\n",
       "  </tbody>\n",
       "</table>\n",
       "<p>30936 rows × 9 columns</p>\n",
       "</div>"
      ],
      "text/plain": [
       "       travelCode  userCode      name               place  days   price  \\\n",
       "0               0         0   Hotel A  Florianopolis (SC)     4  313.02   \n",
       "25851       86899       858   Hotel K       Salvador (BH)     4  263.41   \n",
       "1385         4701        47  Hotel BW   Campo Grande (MS)     2   60.39   \n",
       "24681       82984       810   Hotel A  Florianopolis (SC)     3  313.02   \n",
       "34241      114921      1143   Hotel K       Salvador (BH)     4  263.41   \n",
       "...           ...       ...       ...                 ...   ...     ...   \n",
       "5284        17415       174   Hotel A  Florianopolis (SC)     1  313.02   \n",
       "24664       82931       809  Hotel AF      Sao Paulo (SP)     2  139.10   \n",
       "34979      117304      1162  Hotel BP       Brasilia (DF)     4  247.62   \n",
       "16791       55846       544  Hotel BD          Natal (RN)     1  242.88   \n",
       "10428       34642       330   Hotel Z        Aracaju (SE)     3  208.04   \n",
       "\n",
       "         total        date year-month-day  \n",
       "0      1252.08  09/26/2019     2019-09-26  \n",
       "25851  1053.64  09/26/2019     2019-09-26  \n",
       "1385    120.78  09/26/2019     2019-09-26  \n",
       "24681   939.06  09/26/2019     2019-09-26  \n",
       "34241  1053.64  09/26/2019     2019-09-26  \n",
       "...        ...         ...            ...  \n",
       "5284    313.02  09/23/2021     2021-09-23  \n",
       "24664   278.20  09/23/2021     2021-09-23  \n",
       "34979   990.48  09/23/2021     2021-09-23  \n",
       "16791   242.88  09/23/2021     2021-09-23  \n",
       "10428   624.12  09/23/2021     2021-09-23  \n",
       "\n",
       "[30936 rows x 9 columns]"
      ]
     },
     "execution_count": 16,
     "metadata": {},
     "output_type": "execute_result"
    }
   ],
   "source": [
    "# Tomamos un rango de fechas para hacer el analisis: 2019-09-26 hasta 2021-09-26\n",
    "df_hotels = df_hotels.loc[(df_hotels['year-month-day'] >= '2019-09-26') & (df_hotels['year-month-day'] <= '2021-09-26')]\n",
    "# Ordenamos el DF por fecha: de menor a mayor \n",
    "df_hotels  = df_hotels.sort_values(by=['year-month-day'])\n",
    "df_hotels"
   ]
  },
  {
   "cell_type": "code",
   "execution_count": 17,
   "metadata": {},
   "outputs": [
    {
     "data": {
      "text/plain": [
       "1310"
      ]
     },
     "execution_count": 17,
     "metadata": {},
     "output_type": "execute_result"
    }
   ],
   "source": [
    "df_hotels['userCode'].unique().size"
   ]
  }
 ],
 "metadata": {
  "kernelspec": {
   "display_name": "Python 3.9.13 ('rampup_py39')",
   "language": "python",
   "name": "python3"
  },
  "language_info": {
   "codemirror_mode": {
    "name": "ipython",
    "version": 3
   },
   "file_extension": ".py",
   "mimetype": "text/x-python",
   "name": "python",
   "nbconvert_exporter": "python",
   "pygments_lexer": "ipython3",
   "version": "3.9.13 (main, Aug 25 2022, 23:51:50) [MSC v.1916 64 bit (AMD64)]"
  },
  "orig_nbformat": 4,
  "vscode": {
   "interpreter": {
    "hash": "3d188261b81830b6ac66d1577c0c1247a6cf295c359c5f8aaacef085db0d0245"
   }
  }
 },
 "nbformat": 4,
 "nbformat_minor": 2
}
